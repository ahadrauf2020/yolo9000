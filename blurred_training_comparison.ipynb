{
 "cells": [
  {
   "cell_type": "code",
   "execution_count": 1,
   "metadata": {},
   "outputs": [],
   "source": [
    "import torch, torchvision\n",
    "from torchvision import datasets, models, transforms\n",
    "import torch.nn as nn\n",
    "import torch.optim as optim\n",
    "from torch.utils.data import DataLoader\n",
    "import time\n",
    "from torchsummary import summary\n",
    "import pathlib\n",
    "\n",
    "import numpy as np\n",
    "import matplotlib.pyplot as plt\n",
    "import os\n",
    "\n",
    "from PIL import Image"
   ]
  },
  {
   "cell_type": "code",
   "execution_count": null,
   "metadata": {},
   "outputs": [],
   "source": [
    "# Load the Data\n",
    "\n",
    "data_dir = pathlib.Path('./data/tiny-imagenet-200')\n",
    "image_count = len(list(data_dir.glob('**/*.JPEG')))\n",
    "CLASS_NAMES = np.array([item.name for item in (data_dir / 'train').glob('*')])\n",
    "num_classes = len(CLASS_NAMES)\n",
    "print('Discovered {} images in {} classes'.format(image_count, num_classes))\n",
    "\n",
    "# Create the training data generator\n",
    "batch_size = 32\n",
    "im_height = 64\n",
    "im_width = 64\n",
    "num_epochs = 1\n",
    "\n",
    "data_transforms = transforms.Compose([\n",
    "    transforms.ToTensor(),\n",
    "    transforms.Normalize((0, 0, 0), tuple(np.sqrt((255, 255, 255)))),\n",
    "])\n",
    "\n",
    "# Load Data from folders\n",
    "data = {\n",
    "    'train': datasets.ImageFolder(root=data_dir / 'train', transform=data_transforms),\n",
    "    'valid': datasets.ImageFolder(root=data_dir / 'val', transform=data_transforms),\n",
    "    'test': datasets.ImageFolder(root=data_dir / 'test', transform=data_transforms)\n",
    "}\n",
    "\n",
    "# Get a mapping of the indices to the class names, in order to see the output classes of the test images.\n",
    "idx_to_class = {v: k for k, v in data['train'].class_to_idx.items()}\n",
    "print(idx_to_class)\n",
    "\n",
    "# Size of Data, to be used for calculating Average Loss and Accuracy\n",
    "train_data_size = len(data['train'])\n",
    "valid_data_size = len(data['valid'])\n",
    "test_data_size = len(data['test'])\n",
    "\n",
    "# Create iterators for the Data loaded using DataLoader module\n",
    "train_data_loader = DataLoader(data['train'], batch_size=batch_size, shuffle=True)\n",
    "valid_data_loader = DataLoader(data['valid'], batch_size=batch_size, shuffle=True)\n",
    "test_data_loader = DataLoader(data['test'], batch_size=batch_size, shuffle=True)\n",
    "\n",
    "# Define what device we are using\n",
    "print(\"CUDA Available: \",torch.cuda.is_available())\n",
    "device = torch.device(\"cuda\" if (torch.cuda.is_available()) else \"cpu\")"
   ]
  },
  {
   "cell_type": "code",
   "execution_count": 46,
   "metadata": {},
   "outputs": [
    {
     "data": {
      "text/plain": [
       "<All keys matched successfully>"
      ]
     },
     "execution_count": 46,
     "metadata": {},
     "output_type": "execute_result"
    }
   ],
   "source": [
    "import resnet_modified\n",
    "model = resnet_modified.resnet152(pretrained=False, decay_factor=0.04278)\n",
    "num_ftrs = model.fc.in_features\n",
    "model.fc = nn.Linear(num_ftrs, 200)\n",
    "model = model.to('cuda')\n",
    "best_model_path = \"./models/resnet152_best_model_epoch_0.pth\"\n",
    "model.load_state_dict(torch.load(best_model_path))"
   ]
  },
  {
   "cell_type": "code",
   "execution_count": 59,
   "metadata": {},
   "outputs": [],
   "source": [
    "# info = np.load(\"demo_training_in_progress_resnet152.npy\", allow_pickle=True)\n",
    "info = np.load(\"training_in_progress_resnet152_demo.npy\", allow_pickle=True)"
   ]
  },
  {
   "cell_type": "code",
   "execution_count": 60,
   "metadata": {},
   "outputs": [
    {
     "data": {
      "text/plain": [
       "[<matplotlib.lines.Line2D at 0x7fe8285741d0>]"
      ]
     },
     "execution_count": 60,
     "metadata": {},
     "output_type": "execute_result"
    },
    {
     "data": {
      "image/png": "[encoded data removed]",
      "text/plain": [
       "<Figure size 432x288 with 1 Axes>"
      ]
     },
     "metadata": {
      "needs_background": "light"
     },
     "output_type": "display_data"
    }
   ],
   "source": [
    "plt.plot(info[0,:])"
   ]
  },
  {
   "cell_type": "code",
   "execution_count": 49,
   "metadata": {},
   "outputs": [
    {
     "data": {
      "text/plain": [
       "(4, 15)"
      ]
     },
     "execution_count": 49,
     "metadata": {},
     "output_type": "execute_result"
    }
   ],
   "source": [
    "info_fh = np.load(\"full_training_15.npy\", allow_pickle=True)\n",
    "info_fh.shape"
   ]
  },
  {
   "cell_type": "code",
   "execution_count": 39,
   "metadata": {},
   "outputs": [
    {
     "data": {
      "text/plain": [
       "<matplotlib.legend.Legend at 0x7fe829e92c10>"
      ]
     },
     "execution_count": 39,
     "metadata": {},
     "output_type": "execute_result"
    },
    {
     "data": {
      "image/png": "[encoded data removed]",
      "text/plain": [
       "<Figure size 432x288 with 1 Axes>"
      ]
     },
     "metadata": {
      "needs_background": "light"
     },
     "output_type": "display_data"
    }
   ],
   "source": [
    "plt.plot(info_fh[0,:10])\n",
    "plt.plot(info[0,:])\n",
    "plt.legend([\"ResNet-152D\", 'ResNet-152'])"
   ]
  },
  {
   "cell_type": "code",
   "execution_count": 25,
   "metadata": {},
   "outputs": [
    {
     "data": {
      "text/plain": [
       "tensor(0.6200, device='cuda:0', dtype=torch.float64)"
      ]
     },
     "execution_count": 25,
     "metadata": {},
     "output_type": "execute_result"
    }
   ],
   "source": [
    "info[1,4]"
   ]
  },
  {
   "cell_type": "code",
   "execution_count": 32,
   "metadata": {},
   "outputs": [],
   "source": [
    "# Epoch 0/9\n",
    "# ----------\n",
    "# train Loss: 2.5959 Acc: 0.4472\n",
    "# val Loss: 1.6407 Acc: 0.5954\n",
    "\n",
    "# Epoch 1/9\n",
    "# ----------\n",
    "# train Loss: 1.0887 Acc: 0.7272\n",
    "# val Loss: 1.5100 Acc: 0.6238\n",
    "\n",
    "# Epoch 2/9\n",
    "# ----------\n",
    "# train Loss: 0.4900 Acc: 0.8761\n",
    "# val Loss: 1.5446 Acc: 0.6306\n",
    "\n",
    "# Epoch 3/9\n",
    "# ----------\n",
    "# train Loss: 0.1971 Acc: 0.9539\n",
    "# val Loss: 1.6339 Acc: 0.6307\n",
    "\n",
    "# Epoch 4/9\n",
    "# ----------\n",
    "# train Loss: 0.0792 Acc: 0.9828\n",
    "# val Loss: 1.7525 Acc: 0.6332\n",
    "\n",
    "# Epoch 5/9\n",
    "# ----------\n",
    "# train Loss: 0.0339 Acc: 0.9938\n",
    "# val Loss: 1.7763 Acc: 0.6320\n",
    "\n",
    "# Epoch 6/9\n",
    "# ----------\n",
    "# train Loss: 0.0194 Acc: 0.9963\n",
    "# val Loss: 1.8588 Acc: 0.6329\n",
    "\n",
    "# Epoch 7/9\n",
    "# ----------\n",
    "# train Loss: 0.0226 Acc: 0.9952\n",
    "# val Loss: 1.9862 Acc: 0.6181\n",
    "\n",
    "# Epoch 8/9\n",
    "# ----------\n",
    "# train Loss: 0.0159 Acc: 0.9970\n",
    "# val Loss: 1.8674 Acc: 0.6372\n",
    "\n",
    "# Epoch 9/9\n",
    "# ----------\n",
    "# train Loss: 0.0046 Acc: 0.9997\n",
    "# val Loss: 1.8635 Acc: 0.6400\n",
    "\n",
    "train_data_kei = [0.4472, 0.7272, 0.8761, 0.9539, 0.9828, 0.9938, 0.9963, 0.9952, 0.9970, 0.9997]\n",
    "val_data_kei = [0.5954, 0.6238, 0.6306, 0.6307, 0.6332, 0.6320, 0.6329, 0.6181, 0.6372, 0.64]\n",
    "train_loss_kei = [2.5959, 1.0887, 0.4900, 0.1971, 0.0792, 0.0339, 0.0194, 0.0226, 0.0159, 0.0046]\n",
    "val_loss_kei = [1.51, 1.5446, 1.6339, 1.7525, 1.7763, 1.8588, 1.9862, 1.8674, 1.8635]"
   ]
  },
  {
   "cell_type": "code",
   "execution_count": 73,
   "metadata": {},
   "outputs": [
    {
     "data": {
      "text/plain": [
       "<matplotlib.legend.Legend at 0x7fe828367090>"
      ]
     },
     "execution_count": 73,
     "metadata": {},
     "output_type": "execute_result"
    },
    {
     "data": {
      "image/png": "[encoded data removed]",
      "text/plain": [
       "<Figure size 432x288 with 1 Axes>"
      ]
     },
     "metadata": {
      "needs_background": "light"
     },
     "output_type": "display_data"
    }
   ],
   "source": [
    "plt.plot(info_fh[2,:10])\n",
    "plt.plot(train_loss_kei)\n",
    "plt.legend([\"ResNet-152D\", 'ResNet-152'])"
   ]
  },
  {
   "cell_type": "code",
   "execution_count": 61,
   "metadata": {},
   "outputs": [
    {
     "data": {
      "text/plain": [
       "(4, 18)"
      ]
     },
     "execution_count": 61,
     "metadata": {},
     "output_type": "execute_result"
    }
   ],
   "source": [
    "test_fhd = np.hstack([info[:,:3], info_fh])\n",
    "test_fhd.shape"
   ]
  },
  {
   "cell_type": "code",
   "execution_count": 85,
   "metadata": {},
   "outputs": [
    {
     "data": {
      "text/plain": [
       "<matplotlib.legend.Legend at 0x7fe8210bc250>"
      ]
     },
     "execution_count": 85,
     "metadata": {},
     "output_type": "execute_result"
    },
    {
     "data": {
      "image/png": "[encoded data removed]",
      "text/plain": [
       "<Figure size 432x288 with 1 Axes>"
      ]
     },
     "metadata": {
      "needs_background": "light"
     },
     "output_type": "display_data"
    }
   ],
   "source": [
    "\n",
    "\n",
    "plt.plot(test_fhd[0,:10])\n",
    "plt.plot(train_data_kei)\n",
    "# plt.semilogy()\n",
    "plt.legend([\"ResNet-152D\", 'ResNet-152'])"
   ]
  }
 ],
 "metadata": {
  "kernelspec": {
   "display_name": "Python 3",
   "language": "python",
   "name": "python3"
  },
  "language_info": {
   "codemirror_mode": {
    "name": "ipython",
    "version": 3
   },
   "file_extension": ".py",
   "mimetype": "text/x-python",
   "name": "python",
   "nbconvert_exporter": "python",
   "pygments_lexer": "ipython3",
   "version": "3.7.4"
  }
 },
 "nbformat": 4,
 "nbformat_minor": 4
}
