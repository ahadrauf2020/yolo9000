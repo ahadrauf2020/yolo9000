{
 "cells": [
  {
   "cell_type": "code",
   "execution_count": 4,
   "metadata": {
    "scrolled": false
   },
   "outputs": [
    {
     "name": "stdout",
     "output_type": "stream",
     "text": [
      "Epoch: 10 batch_size: 32\n",
      "=> using pre-trained model 'resnet50'\n",
      "Epoch:0 top1: Acc@1   0.00 (  0.00) top5: Acc@5   0.00 (  0.00)\n",
      "Traceback (most recent call last):\n",
      "  File \"train_model_resnet50.py\", line 444, in <module>\n",
      "    main()\n",
      "  File \"train_model_resnet50.py\", line 115, in main\n",
      "    main_worker(args.gpu, ngpus_per_node, args)\n",
      "  File \"train_model_resnet50.py\", line 261, in main_worker\n",
      "    train(train_loader, model, criterion, optimizer, epoch, args)\n",
      "  File \"train_model_resnet50.py\", line 297, in train\n",
      "    for i, (images, target) in enumerate(train_loader):\n",
      "  File \"/opt/anaconda3/lib/python3.7/site-packages/torch/utils/data/dataloader.py\", line 279, in __iter__\n",
      "    return _MultiProcessingDataLoaderIter(self)\n",
      "  File \"/opt/anaconda3/lib/python3.7/site-packages/torch/utils/data/dataloader.py\", line 719, in __init__\n",
      "    w.start()\n",
      "  File \"/opt/anaconda3/lib/python3.7/multiprocessing/process.py\", line 112, in start\n",
      "    self._popen = self._Popen(self)\n",
      "  File \"/opt/anaconda3/lib/python3.7/multiprocessing/context.py\", line 223, in _Popen\n",
      "    return _default_context.get_context().Process._Popen(process_obj)\n",
      "  File \"/opt/anaconda3/lib/python3.7/multiprocessing/context.py\", line 277, in _Popen\n",
      "    return Popen(process_obj)\n",
      "  File \"/opt/anaconda3/lib/python3.7/multiprocessing/popen_fork.py\", line 20, in __init__\n",
      "    self._launch(process_obj)\n",
      "  File \"/opt/anaconda3/lib/python3.7/multiprocessing/popen_fork.py\", line 70, in _launch\n",
      "    self.pid = os.fork()\n",
      "OSError: [Errno 12] Cannot allocate memory\n"
     ]
    }
   ],
   "source": [
    "!python train_model_resnet50.py \"./data/tiny-imagenet-200/\" -a \"resnet50\" --epochs 10 --pretrained"
   ]
  }
 ],
 "metadata": {
  "kernelspec": {
   "display_name": "Python 3",
   "language": "python",
   "name": "python3"
  },
  "language_info": {
   "codemirror_mode": {
    "name": "ipython",
    "version": 3
   },
   "file_extension": ".py",
   "mimetype": "text/x-python",
   "name": "python",
   "nbconvert_exporter": "python",
   "pygments_lexer": "ipython3",
   "version": "3.7.4"
  }
 },
 "nbformat": 4,
 "nbformat_minor": 4
}
